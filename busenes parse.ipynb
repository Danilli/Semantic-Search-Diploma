{
 "cells": [
  {
   "cell_type": "code",
   "execution_count": 70,
   "id": "f48993eb-b3d1-4500-a704-d8700af15419",
   "metadata": {},
   "outputs": [],
   "source": [
    "import requests \n",
    "import json\n",
    "from bs4 import BeautifulSoup"
   ]
  },
  {
   "cell_type": "code",
   "execution_count": 81,
   "id": "b1760821-cf7f-4383-b8c7-c0760485e527",
   "metadata": {},
   "outputs": [],
   "source": [
    "base = \"https://academicjournals.org\"\n",
    "num = 0 # global index for creating a name"
   ]
  },
  {
   "cell_type": "code",
   "execution_count": 72,
   "id": "7b6cc205-4f8c-4301-8a8a-e8d3f5457a77",
   "metadata": {},
   "outputs": [],
   "source": [
    "def create_json(title, authors, key_words, text):\n",
    "    \"\"\"Creating a json file with fields\"\"\"\n",
    "    data = {\n",
    "        'title': title,\n",
    "        'authors': authors,\n",
    "        'text': text,\n",
    "        'key_words': key_words\n",
    "    }\n",
    "    with open(f'AJBM parse/{num}.json', 'w') as f:\n",
    "        json.dump(data, f)"
   ]
  },
  {
   "cell_type": "code",
   "execution_count": 73,
   "id": "95d8bc77-013b-4cb3-8483-202b89fb58ce",
   "metadata": {},
   "outputs": [],
   "source": [
    "def take_auth(soup):\n",
    "    '''Parse the soup to take an author'''\n",
    "    authors = []\n",
    "    for user in soup.find_all(\"div\", \"user\"):\n",
    "        authors.append(user.find(\"h5\").text)\n",
    "    return authors"
   ]
  },
  {
   "cell_type": "code",
   "execution_count": 80,
   "id": "8322a87a-9a91-430f-a91a-407afe740a74",
   "metadata": {},
   "outputs": [],
   "source": [
    "def parse_links_pack(links):\n",
    "    '''Create a json file for each page in links'''\n",
    "    for link in links:\n",
    "        global num\n",
    "        num += 1 # increment an index-name\n",
    "        req = requests.get(link)\n",
    "        sub_soup = BeautifulSoup(req.text, \"html.parser\")\n",
    "        title = sub_soup.find(\"h2\").text\n",
    "        authors = take_auth(sub_soup)\n",
    "        all_p = sub_soup.find(\"div\", \"articles abstract_details\").find_all(\"p\")\n",
    "        #in some cases this part throw an exeption but all pages have a standart format, idk. Anyway\n",
    "        try:\n",
    "            all_p[-1].strong.decompose()\n",
    "            key_words = all_p[-1].text.strip()[:-1].split(\", \")\n",
    "            text = all_p[1].text.strip()\n",
    "        except:\n",
    "            key_words = []\n",
    "            text = \"\"\n",
    "        create_json(title, authors, key_words, text)"
   ]
  },
  {
   "cell_type": "code",
   "execution_count": 75,
   "id": "ecbb769f-42f5-4932-9339-8e98eb67b7fa",
   "metadata": {},
   "outputs": [],
   "source": [
    "def take_links_from_page(soup):\n",
    "    '''every soup has about 50 links to needed pages in it'''\n",
    "    links = []\n",
    "    for a in soup.find_all(\"a\", \"btn btn-success\"):\n",
    "        href = a.get(\"href\")\n",
    "        links.append(base+href)\n",
    "    return links"
   ]
  },
  {
   "cell_type": "code",
   "execution_count": null,
   "id": "e6c3a5f5-8d21-4246-ae57-d5eabd0bc8f9",
   "metadata": {},
   "outputs": [],
   "source": [
    "# circle for creating a soup from each base-search url\n",
    "for i in range(1, 81):\n",
    "    url = f\"https://academicjournals.org/articles/j_articles/AJBM/page:{i}\"\n",
    "    response = requests.get(url)\n",
    "    soup = BeautifulSoup(response.text, \"html.parser\")\n",
    "    links = take_links_from_page(soup)\n",
    "    parse_links_pack(links)"
   ]
  },
  {
   "cell_type": "code",
   "execution_count": null,
   "id": "30783a1b-6cbf-4a3e-b0b6-b53c34040efb",
   "metadata": {},
   "outputs": [],
   "source": [
    "# comands below were a little lab while parsing. It stay here in case it would be needed"
   ]
  },
  {
   "cell_type": "code",
   "execution_count": 15,
   "id": "7b4bb656-e2c0-40b8-9959-c18f1e1a2482",
   "metadata": {},
   "outputs": [],
   "source": [
    "link = \"https://academicjournals.org/journal/AJBM/article-abstract/4D3FE8370687\""
   ]
  },
  {
   "cell_type": "code",
   "execution_count": 16,
   "id": "eee5d589-b3ce-4518-b065-a64e51e7494c",
   "metadata": {},
   "outputs": [],
   "source": [
    "req = requests.get(link)\n",
    "sub_soup = BeautifulSoup(req.text, \"html.parser\")"
   ]
  },
  {
   "cell_type": "code",
   "execution_count": 32,
   "id": "9b33bbaa-d827-4fac-ab04-a1a37d1fda92",
   "metadata": {},
   "outputs": [
    {
     "data": {
      "text/plain": [
       "'Uganda'"
      ]
     },
     "execution_count": 32,
     "metadata": {},
     "output_type": "execute_result"
    }
   ],
   "source": [
    "sub_soup.find(\"div\", \"articles abstract_details\").find_all(\"p\")[-1].text.split(\": \")[1].split(\", \")[-1][:-1]"
   ]
  },
  {
   "cell_type": "code",
   "execution_count": 60,
   "id": "ee4dfe86-3f34-4790-8080-cccc98995e75",
   "metadata": {},
   "outputs": [],
   "source": [
    "sub_soup.find(\"div\", \"articles abstract_details\").find_all(\"p\")[-1].strong.decompose()"
   ]
  },
  {
   "cell_type": "code",
   "execution_count": 58,
   "id": "d1a3871b-3ced-485a-a856-8c5c65378b00",
   "metadata": {},
   "outputs": [
    {
     "data": {
      "text/plain": [
       "'https://academicjournals.org/journal/AJBM/article-abstract/0330EFA69299'"
      ]
     },
     "execution_count": 58,
     "metadata": {},
     "output_type": "execute_result"
    }
   ],
   "source": [
    "links[19]"
   ]
  },
  {
   "cell_type": "code",
   "execution_count": 65,
   "id": "9b53452d-bb1a-4397-9162-686924da5e7a",
   "metadata": {},
   "outputs": [
    {
     "data": {
      "text/plain": [
       "['Stakeholders,',\n",
       " 'resource',\n",
       " 'mobilization,',\n",
       " 'sustainability,',\n",
       " 'and',\n",
       " 'donors',\n",
       " 'funded',\n",
       " 'potato',\n",
       " 'projects,',\n",
       " 'Kabale',\n",
       " 'District,',\n",
       " 'Uganda']"
      ]
     },
     "execution_count": 65,
     "metadata": {},
     "output_type": "execute_result"
    }
   ],
   "source": [
    "sub_soup.find(\"div\", \"articles abstract_details\").find_all(\"p\")[-1].text.strip()[:-1].split()"
   ]
  },
  {
   "cell_type": "code",
   "execution_count": null,
   "id": "c1741f98-b055-4711-9a7c-ace38dece836",
   "metadata": {},
   "outputs": [],
   "source": [
    "lk = \"https://academicjournals.org/journal/AJBM/article-abstract/D8AB70E53472\""
   ]
  }
 ],
 "metadata": {
  "kernelspec": {
   "display_name": "Python 3 (ipykernel)",
   "language": "python",
   "name": "python3"
  },
  "language_info": {
   "codemirror_mode": {
    "name": "ipython",
    "version": 3
   },
   "file_extension": ".py",
   "mimetype": "text/x-python",
   "name": "python",
   "nbconvert_exporter": "python",
   "pygments_lexer": "ipython3",
   "version": "3.9.12"
  }
 },
 "nbformat": 4,
 "nbformat_minor": 5
}
